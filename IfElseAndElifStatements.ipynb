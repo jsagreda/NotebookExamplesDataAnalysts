{
 "cells": [
  {
   "cell_type": "code",
   "execution_count": 3,
   "id": "2e9f6498",
   "metadata": {},
   "outputs": [
    {
     "name": "stdout",
     "output_type": "stream",
     "text": [
      "25 is less than 10\n"
     ]
    }
   ],
   "source": [
    "if 25 < 10:\n",
    "    print('25 is more than 10')\n",
    "else:\n",
    "    print('25 is less than 10')"
   ]
  },
  {
   "cell_type": "code",
   "execution_count": 4,
   "id": "a0341434",
   "metadata": {},
   "outputs": [
    {
     "name": "stdout",
     "output_type": "stream",
     "text": [
      "35 and 25 are Not exactly the same value\n"
     ]
    }
   ],
   "source": [
    "if not 35 == 25:\n",
    "    print(\"35 and 25 are Not exactly the same value\")"
   ]
  },
  {
   "cell_type": "code",
   "execution_count": 7,
   "id": "2440bad7",
   "metadata": {},
   "outputs": [
    {
     "name": "stdout",
     "output_type": "stream",
     "text": [
      "This numer is greater than zero: 115\n"
     ]
    }
   ],
   "source": [
    "x = 115\n",
    "\n",
    "if x > 0:\n",
    "    print('This numer is greater than zero:', x)"
   ]
  },
  {
   "cell_type": "code",
   "execution_count": 8,
   "id": "d1154e89",
   "metadata": {},
   "outputs": [
    {
     "name": "stdout",
     "output_type": "stream",
     "text": [
      "25 + 25 == 30 + 20, is correct!\n"
     ]
    }
   ],
   "source": [
    "if 25 + 25 == 30 + 20:\n",
    "    print(\"25 + 25 == 30 + 20, is correct!\")"
   ]
  },
  {
   "cell_type": "code",
   "execution_count": 10,
   "id": "210d525a",
   "metadata": {},
   "outputs": [],
   "source": [
    "salary = 500\n",
    "expenses = 200"
   ]
  },
  {
   "cell_type": "code",
   "execution_count": 11,
   "id": "ed46eab5",
   "metadata": {},
   "outputs": [
    {
     "name": "stdout",
     "output_type": "stream",
     "text": [
      "Am I living within my means? True\n"
     ]
    }
   ],
   "source": [
    "living_within_means = False\n",
    "\n",
    "if salary - expenses > 0:\n",
    "    living_within_means = True\n",
    "    \n",
    "print (\"Am I living within my means?\", living_within_means)"
   ]
  },
  {
   "cell_type": "code",
   "execution_count": 13,
   "id": "3c850f5f",
   "metadata": {},
   "outputs": [
    {
     "name": "stdout",
     "output_type": "stream",
     "text": [
      "You are saving well but expenses could be lower\n"
     ]
    }
   ],
   "source": [
    "salary = 1000\n",
    "expenses = 500\n",
    "\n",
    "living_within_means = salary - expenses > 0\n",
    "\n",
    "if living_within_means and expenses > 300:\n",
    "    print(\"You are saving well but expenses could be lower\")"
   ]
  },
  {
   "cell_type": "code",
   "execution_count": 14,
   "id": "44471519",
   "metadata": {},
   "outputs": [
    {
     "name": "stdout",
     "output_type": "stream",
     "text": [
      "3 is less tha 6\n"
     ]
    }
   ],
   "source": [
    "if 3 <= 6 or 7 >= 8:\n",
    "    print(\"3 is less tha 6\")"
   ]
  },
  {
   "cell_type": "code",
   "execution_count": 15,
   "id": "29ed616b",
   "metadata": {},
   "outputs": [
    {
     "name": "stdout",
     "output_type": "stream",
     "text": [
      "loans to tide you over 100\n"
     ]
    }
   ],
   "source": [
    "salary = 1000\n",
    "expenses = 1100\n",
    "\n",
    "if salary > expenses:\n",
    "    print(\"savings for the month:\", salary - expenses)\n",
    "else:\n",
    "    print(\"loans to tide you over\", expenses - salary)"
   ]
  },
  {
   "cell_type": "code",
   "execution_count": 23,
   "id": "a9df127b",
   "metadata": {},
   "outputs": [
    {
     "name": "stdout",
     "output_type": "stream",
     "text": [
      "The smallest value in this list is negative: -3\n"
     ]
    }
   ],
   "source": [
    "number_list = [3, 5, 7, 9, 5, -3, 8]\n",
    "\n",
    "if min(number_list) < 0:\n",
    "    print(\"The smallest value in this list is negative:\", \n",
    "         min(number_list))\n",
    "else:\n",
    "    print(\"The smalles value in this list is positive:\", \n",
    "          min(number_list))"
   ]
  },
  {
   "cell_type": "code",
   "execution_count": 27,
   "id": "97d06613",
   "metadata": {},
   "outputs": [
    {
     "name": "stdout",
     "output_type": "stream",
     "text": [
      "loans taken: 500\n",
      "savings: 0 loans: 500\n"
     ]
    }
   ],
   "source": [
    "salary = 1000\n",
    "expenses = 1500\n",
    "\n",
    "savings = 0\n",
    "loans = 0\n",
    "\n",
    "if salary > expenses:\n",
    "    savings = salary - expenses\n",
    "    print(\"Savings for the month:\", savings)\n",
    "else:\n",
    "    loans = abs(salary - expenses)\n",
    "    print(\"loans taken:\", loans)\n",
    "    \n",
    "print(\"savings:\", savings, \"loans:\", loans)"
   ]
  },
  {
   "cell_type": "code",
   "execution_count": 37,
   "id": "d7d88eb6",
   "metadata": {},
   "outputs": [],
   "source": [
    "Color = ['Rojo', 'Naranja', 'Amarillo']\n",
    "\n",
    "Notas = ['Do', 'Re', 'Mi']\n",
    "\n",
    "Mantras = ['LAM', 'VAM', 'RAM']"
   ]
  },
  {
   "cell_type": "code",
   "execution_count": 38,
   "id": "dcef4e40",
   "metadata": {},
   "outputs": [
    {
     "name": "stdout",
     "output_type": "stream",
     "text": [
      "it is not too long list\n"
     ]
    }
   ],
   "source": [
    "if len(Color) < 5:\n",
    "    print(\"it is not too long list\")"
   ]
  },
  {
   "cell_type": "code",
   "execution_count": 52,
   "id": "633debc7",
   "metadata": {},
   "outputs": [
    {
     "name": "stdout",
     "output_type": "stream",
     "text": [
      "Your Punto_energetico is: ('Color :', 'Amarillo') RAM\n"
     ]
    }
   ],
   "source": [
    "Punto_energetico = \"RAM\"\n",
    "\n",
    "if Punto_energetico in Color:\n",
    "    print(\"Your Punto_energetico is:\", Punto_energetico)\n",
    "    \n",
    "if Punto_energetico in Notas:\n",
    "    print(\"Your Punto_energetico is:\", Punto_energetico)\n",
    "    \n",
    "if Punto_energetico in Mantras:\n",
    "    print(\"Your Punto_energetico is:\",(\"Color :\", Color[2]), Punto_energetico)"
   ]
  },
  {
   "cell_type": "code",
   "execution_count": 53,
   "id": "e4b98252",
   "metadata": {},
   "outputs": [],
   "source": [
    "Color = ['Rojo', 'Naranja', 'Amarillo']\n",
    "\n",
    "Notas = ['Do', 'Re', 'Mi']\n",
    "\n",
    "Mantras = ['LAM', 'VAM', 'RAM']"
   ]
  },
  {
   "cell_type": "code",
   "execution_count": 79,
   "id": "558d5abd",
   "metadata": {},
   "outputs": [
    {
     "name": "stdout",
     "output_type": "stream",
     "text": [
      "Color: Rojo Nota: Do Mantra: LAM\n"
     ]
    }
   ],
   "source": [
    "Punto_energetico_color = \"Rojo\"\n",
    "if Punto_energetico_color in Color:\n",
    "    print(\"Color:\", Punto_energetico_color, \"Nota:\", Notas[0], \"Mantra:\", Mantras[0])"
   ]
  },
  {
   "cell_type": "code",
   "execution_count": 80,
   "id": "144dc0db",
   "metadata": {},
   "outputs": [
    {
     "name": "stdout",
     "output_type": "stream",
     "text": [
      "Color: Naranja Nota: Re Mantra: VAM\n"
     ]
    }
   ],
   "source": [
    "Punto_energetico_color = \"Naranja\"\n",
    "if Punto_energetico_color in Color:\n",
    "    print(\"Color:\", Punto_energetico_color, \"Nota:\", Notas[1], \"Mantra:\", Mantras[1])"
   ]
  },
  {
   "cell_type": "code",
   "execution_count": 81,
   "id": "957dff1f",
   "metadata": {},
   "outputs": [
    {
     "name": "stdout",
     "output_type": "stream",
     "text": [
      "Color: Amarillo Nota: Mi Mantra: RAM\n"
     ]
    }
   ],
   "source": [
    "Punto_energetico_color = \"Amarillo\"\n",
    "if Punto_energetico_color in Color:\n",
    "    print(\"Color:\", Punto_energetico_color, \"Nota:\", Notas[2], \"Mantra:\", Mantras[2])"
   ]
  },
  {
   "cell_type": "code",
   "execution_count": 100,
   "id": "2458b0f7",
   "metadata": {},
   "outputs": [
    {
     "name": "stdout",
     "output_type": "stream",
     "text": [
      "Score: 10 Noob\n"
     ]
    }
   ],
   "source": [
    "math_score = 10\n",
    "\n",
    "if math_score < 20:\n",
    "    print(\"Score:\", math_score, \"Noob\" )\n",
    "    \n",
    "elif math_score < 50:\n",
    "    print(\"Score:\", math_score, \"Beginner\")\n",
    "        \n",
    "elif math_score < 80:\n",
    "    print(\"Score:\", math_score, \"Intermidiate\") \n",
    "        \n",
    "elif math_score < 100:\n",
    "    print(\"Score:\", math_score, \"Advanced\")"
   ]
  }
 ],
 "metadata": {
  "kernelspec": {
   "display_name": "Python 3",
   "language": "python",
   "name": "python3"
  },
  "language_info": {
   "codemirror_mode": {
    "name": "ipython",
    "version": 3
   },
   "file_extension": ".py",
   "mimetype": "text/x-python",
   "name": "python",
   "nbconvert_exporter": "python",
   "pygments_lexer": "ipython3",
   "version": "3.9.2"
  }
 },
 "nbformat": 4,
 "nbformat_minor": 5
}
