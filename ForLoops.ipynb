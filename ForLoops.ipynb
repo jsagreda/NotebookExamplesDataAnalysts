{
 "cells": [
  {
   "cell_type": "code",
   "execution_count": 1,
   "id": "f2727b39",
   "metadata": {},
   "outputs": [],
   "source": [
    "Chakras = [\"Root\", \"Sexual\", \"Plexo\"]"
   ]
  },
  {
   "cell_type": "code",
   "execution_count": 2,
   "id": "94820ae1",
   "metadata": {},
   "outputs": [
    {
     "name": "stdout",
     "output_type": "stream",
     "text": [
      "Root\n",
      "Sexual\n",
      "Plexo\n"
     ]
    }
   ],
   "source": [
    "for Area in Chakras:\n",
    "    print(Area)"
   ]
  },
  {
   "cell_type": "code",
   "execution_count": 3,
   "id": "9eea6622",
   "metadata": {},
   "outputs": [
    {
     "data": {
      "text/plain": [
       "'Plexo'"
      ]
     },
     "execution_count": 3,
     "metadata": {},
     "output_type": "execute_result"
    }
   ],
   "source": [
    "Area"
   ]
  },
  {
   "cell_type": "code",
   "execution_count": 4,
   "id": "709ea103",
   "metadata": {},
   "outputs": [],
   "source": [
    "Color_Chakras = [\"Red\", \"Orange\", \"Yellow\"]"
   ]
  },
  {
   "cell_type": "code",
   "execution_count": 5,
   "id": "f7ff025f",
   "metadata": {},
   "outputs": [
    {
     "name": "stdout",
     "output_type": "stream",
     "text": [
      "Red\n",
      "Orange\n",
      "Yellow\n"
     ]
    }
   ],
   "source": [
    "for color in Color_Chakras:\n",
    "    print(color)"
   ]
  },
  {
   "cell_type": "code",
   "execution_count": 6,
   "id": "974dd09f",
   "metadata": {},
   "outputs": [
    {
     "data": {
      "text/plain": [
       "'Yellow'"
      ]
     },
     "execution_count": 6,
     "metadata": {},
     "output_type": "execute_result"
    }
   ],
   "source": [
    "color"
   ]
  },
  {
   "cell_type": "code",
   "execution_count": 7,
   "id": "e13153ac",
   "metadata": {},
   "outputs": [
    {
     "name": "stdout",
     "output_type": "stream",
     "text": [
      "J\n",
      "u\n",
      "a\n",
      "n\n"
     ]
    }
   ],
   "source": [
    "for character in ['J', 'u', 'a', 'n']:\n",
    "    print(character)"
   ]
  },
  {
   "cell_type": "code",
   "execution_count": 8,
   "id": "7c6373a0",
   "metadata": {},
   "outputs": [
    {
     "name": "stdout",
     "output_type": "stream",
     "text": [
      "J\n",
      "u\n",
      "a\n",
      "n\n"
     ]
    }
   ],
   "source": [
    "for character in \"Juan\":\n",
    "    print(character)"
   ]
  },
  {
   "cell_type": "code",
   "execution_count": 7,
   "id": "69ce4885",
   "metadata": {},
   "outputs": [],
   "source": [
    "numbers = [100, 500, 700, 560, 633, 50, 1000]"
   ]
  },
  {
   "cell_type": "code",
   "execution_count": 8,
   "id": "a3018b25",
   "metadata": {
    "scrolled": true
   },
   "outputs": [
    {
     "name": "stdout",
     "output_type": "stream",
     "text": [
      "<300: 100\n",
      ">=500: 500\n",
      ">=500: 700\n",
      ">=500: 560\n",
      ">=500: 633\n",
      "<300: 50\n",
      ">=500: 1000\n"
     ]
    }
   ],
   "source": [
    "for num in numbers:\n",
    "    if num < 300:\n",
    "        print(\"<300:\", num)\n",
    "    elif num < 500:\n",
    "        print(\"<500:\", num)    \n",
    "    else:\n",
    "        print(\">=500:\", num)\n"
   ]
  },
  {
   "cell_type": "markdown",
   "id": "c5804d8b",
   "metadata": {},
   "source": [
    "### Range \n",
    "\n",
    "range (Stop)\n",
    "\n",
    "- Stop one number before indicate!"
   ]
  },
  {
   "cell_type": "code",
   "execution_count": 9,
   "id": "d37299ee",
   "metadata": {},
   "outputs": [
    {
     "data": {
      "text/plain": [
       "range(0, 10)"
      ]
     },
     "execution_count": 9,
     "metadata": {},
     "output_type": "execute_result"
    }
   ],
   "source": [
    "r = range(10)\n",
    "\n",
    "r"
   ]
  },
  {
   "cell_type": "code",
   "execution_count": 10,
   "id": "d744831f",
   "metadata": {},
   "outputs": [
    {
     "data": {
      "text/plain": [
       "range"
      ]
     },
     "execution_count": 10,
     "metadata": {},
     "output_type": "execute_result"
    }
   ],
   "source": [
    "type(r)"
   ]
  },
  {
   "cell_type": "code",
   "execution_count": 11,
   "id": "eed89e03",
   "metadata": {},
   "outputs": [
    {
     "data": {
      "text/plain": [
       "(0, 1, 2, 3, 4, 5, 6, 7, 8, 9)"
      ]
     },
     "execution_count": 11,
     "metadata": {},
     "output_type": "execute_result"
    }
   ],
   "source": [
    "tuple(r)"
   ]
  },
  {
   "cell_type": "code",
   "execution_count": 12,
   "id": "8bfb906e",
   "metadata": {},
   "outputs": [
    {
     "data": {
      "text/plain": [
       "[0, 1, 2, 3, 4, 5, 6, 7, 8, 9]"
      ]
     },
     "execution_count": 12,
     "metadata": {},
     "output_type": "execute_result"
    }
   ],
   "source": [
    "list(r)"
   ]
  },
  {
   "cell_type": "code",
   "execution_count": 13,
   "id": "77153861",
   "metadata": {},
   "outputs": [
    {
     "name": "stdout",
     "output_type": "stream",
     "text": [
      "0\n",
      "1\n",
      "2\n",
      "3\n",
      "4\n",
      "5\n",
      "6\n",
      "7\n",
      "8\n",
      "9\n"
     ]
    }
   ],
   "source": [
    "for i in r:\n",
    "    print(i)"
   ]
  },
  {
   "cell_type": "markdown",
   "id": "c78cc73e",
   "metadata": {},
   "source": [
    "### Range (Start,Stop)"
   ]
  },
  {
   "cell_type": "code",
   "execution_count": 16,
   "id": "a5e50e57",
   "metadata": {},
   "outputs": [
    {
     "name": "stdout",
     "output_type": "stream",
     "text": [
      "2\n",
      "3\n",
      "4\n",
      "5\n",
      "6\n",
      "7\n"
     ]
    }
   ],
   "source": [
    "for i in range(2,8):\n",
    "    print(i)"
   ]
  },
  {
   "cell_type": "markdown",
   "id": "7b871e21",
   "metadata": {},
   "source": [
    "### range(Start,Stop,Step)"
   ]
  },
  {
   "cell_type": "code",
   "execution_count": 19,
   "id": "dd46e98f",
   "metadata": {},
   "outputs": [
    {
     "name": "stdout",
     "output_type": "stream",
     "text": [
      "2\n",
      "4\n",
      "6\n"
     ]
    }
   ],
   "source": [
    "for i in range(2,8,2):\n",
    "    print(i)"
   ]
  },
  {
   "cell_type": "markdown",
   "id": "b2f50c02",
   "metadata": {},
   "source": [
    "### \"_\", underscore in range, ignore the value"
   ]
  },
  {
   "cell_type": "code",
   "execution_count": 20,
   "id": "8f1a05c8",
   "metadata": {},
   "outputs": [
    {
     "name": "stdout",
     "output_type": "stream",
     "text": [
      "You Can Do It!\n",
      "You Can Do It!\n",
      "You Can Do It!\n",
      "You Can Do It!\n",
      "You Can Do It!\n"
     ]
    }
   ],
   "source": [
    "for _ in range(5):\n",
    "    print(\"You Can Do It!\")"
   ]
  },
  {
   "cell_type": "code",
   "execution_count": 25,
   "id": "d22f675f",
   "metadata": {},
   "outputs": [],
   "source": [
    "names_and_ages = {\"Juan\" : 26, \n",
    "                  \"Cristian\" : 35, \n",
    "                  \"Nora\" : 61, \n",
    "                  \"Guillermo\" : 56}"
   ]
  },
  {
   "cell_type": "code",
   "execution_count": 26,
   "id": "997a7ab7",
   "metadata": {},
   "outputs": [
    {
     "name": "stdout",
     "output_type": "stream",
     "text": [
      "Juan\n",
      "Cristian\n",
      "Nora\n",
      "Guillermo\n"
     ]
    }
   ],
   "source": [
    "for key in names_and_ages:\n",
    "    print(key)"
   ]
  },
  {
   "cell_type": "markdown",
   "id": "bbe38c34",
   "metadata": {},
   "source": [
    "### dictionary[key], to print the value of the \"key\"\n",
    "    names_and_ages[key]\n",
    "\n",
    "\n"
   ]
  },
  {
   "cell_type": "code",
   "execution_count": 28,
   "id": "f5e3893f",
   "metadata": {},
   "outputs": [
    {
     "name": "stdout",
     "output_type": "stream",
     "text": [
      "Name:  Juan Age:  26\n",
      "Name:  Cristian Age:  35\n",
      "Name:  Nora Age:  61\n",
      "Name:  Guillermo Age:  56\n"
     ]
    }
   ],
   "source": [
    "for key in names_and_ages:\n",
    "    print(\"Name: \", key, \"Age: \", names_and_ages[key])"
   ]
  },
  {
   "cell_type": "code",
   "execution_count": 29,
   "id": "a866185c",
   "metadata": {},
   "outputs": [
    {
     "data": {
      "text/plain": [
       "dict_keys(['Juan', 'Cristian', 'Nora', 'Guillermo'])"
      ]
     },
     "execution_count": 29,
     "metadata": {},
     "output_type": "execute_result"
    }
   ],
   "source": [
    "names_and_ages.keys()"
   ]
  },
  {
   "cell_type": "code",
   "execution_count": 30,
   "id": "c1870ebc",
   "metadata": {},
   "outputs": [
    {
     "name": "stdout",
     "output_type": "stream",
     "text": [
      "Juan\n",
      "Cristian\n",
      "Nora\n",
      "Guillermo\n"
     ]
    }
   ],
   "source": [
    "for key in names_and_ages.keys():\n",
    "    print(key)"
   ]
  },
  {
   "cell_type": "code",
   "execution_count": 31,
   "id": "17b53c18",
   "metadata": {},
   "outputs": [
    {
     "data": {
      "text/plain": [
       "dict_values([26, 35, 61, 56])"
      ]
     },
     "execution_count": 31,
     "metadata": {},
     "output_type": "execute_result"
    }
   ],
   "source": [
    "names_and_ages.values()"
   ]
  },
  {
   "cell_type": "code",
   "execution_count": 32,
   "id": "bca8dff5",
   "metadata": {},
   "outputs": [
    {
     "name": "stdout",
     "output_type": "stream",
     "text": [
      "26\n",
      "35\n",
      "61\n",
      "56\n"
     ]
    }
   ],
   "source": [
    "for key in names_and_ages.values():\n",
    "    print(key)"
   ]
  },
  {
   "cell_type": "code",
   "execution_count": 34,
   "id": "5e92b1fe",
   "metadata": {},
   "outputs": [
    {
     "data": {
      "text/plain": [
       "dict_items([('Juan', 26), ('Cristian', 35), ('Nora', 61), ('Guillermo', 56)])"
      ]
     },
     "execution_count": 34,
     "metadata": {},
     "output_type": "execute_result"
    }
   ],
   "source": [
    "names_and_ages.items()"
   ]
  },
  {
   "cell_type": "markdown",
   "id": "305454d6",
   "metadata": {},
   "source": [
    "### for key, val\n",
    "        print (key, val)"
   ]
  },
  {
   "cell_type": "code",
   "execution_count": 38,
   "id": "d91f24e4",
   "metadata": {},
   "outputs": [
    {
     "name": "stdout",
     "output_type": "stream",
     "text": [
      "Juan 26\n",
      "Cristian 35\n",
      "Nora 61\n",
      "Guillermo 56\n"
     ]
    }
   ],
   "source": [
    "for key, val in names_and_ages.items():\n",
    "    print(key, val)"
   ]
  },
  {
   "cell_type": "code",
   "execution_count": null,
   "id": "b049d5bf",
   "metadata": {},
   "outputs": [],
   "source": []
  }
 ],
 "metadata": {
  "kernelspec": {
   "display_name": "Python 3",
   "language": "python",
   "name": "python3"
  },
  "language_info": {
   "codemirror_mode": {
    "name": "ipython",
    "version": 3
   },
   "file_extension": ".py",
   "mimetype": "text/x-python",
   "name": "python",
   "nbconvert_exporter": "python",
   "pygments_lexer": "ipython3",
   "version": "3.9.2"
  }
 },
 "nbformat": 4,
 "nbformat_minor": 5
}